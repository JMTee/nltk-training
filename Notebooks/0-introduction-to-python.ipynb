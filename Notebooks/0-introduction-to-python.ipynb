print("hello world")

message = 'Helo World'
print(message);

print("What is your name?")
name = input()
print("hello",name) 

thislist = ["apple", "banana", "cherry"]
print(thislist)
print(thislist[1:]);
print(thislist[1:2]);
thislist.append("cherry");
print(thislist);

scientist = {"name":"Alan Turning", "field":"Math"}
print(scientist.keys());
print(scientist.values());

def add(x,y):
  return x + y;
