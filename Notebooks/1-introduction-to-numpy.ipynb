import numpy as np 
a = np.zeros((2,2))
print(a);   

a = np.ones((2,2));
a1 = np.ones((2,2));
print(a);
b = np.random.randint(10,size=(5));
print(b);
hello = np.add(a,a1);
print(hello);

x = np.array([[1,2],[3,4]])
print(np.sum(x));
print(np.sum(x,axis=0));
print(np.sum(x,axis=1));
 

A = np.array([[22,5,16,9],[13,20,19,0],[5,9,1,16],[27,13,15,19]]);
B = np.array([[10,5,20,20],[5,21,22,27],[26,19,22,3],[27,8,18,7]]);
c = np.array([24,3,17,7,11,2,21,2,24,18,3,11,14,25,2,20]);
d = np.array([3,15,24,22,19,24,4,29,6,3,20,1,11,25,26,6]);

print("1.", A+B);
print("2.",A-B);
print("3.",A*B);
print("4.",np.matmul(A,B));
print ("5",c+d);
print("6",c-d);
print("7",c*d);
print("8",np.matmul(c,d));
print("9",A+ 10);
print("10",B+ 10);
print("11",c+ 15);
print("12",d+ 15);
print("13",(2*A)+(2*B));
print("14",(A+B)*3);
print("15",(A-B+A-B+B)*4);
